{
 "cells": [
  {
   "cell_type": "markdown",
   "id": "328f5e4c-792a-45d9-878d-c3545c24cd44",
   "metadata": {},
   "source": [
    "# Llamar la clase"
   ]
  },
  {
   "cell_type": "code",
   "execution_count": 2,
   "id": "646355df-00a0-4520-b6fb-5e0a4f77575a",
   "metadata": {},
   "outputs": [],
   "source": [
    "from ConteoTexto import AnalizadorTexto "
   ]
  },
  {
   "cell_type": "code",
   "execution_count": 3,
   "id": "affc0852-3e08-4006-91b4-b1a294269fc9",
   "metadata": {},
   "outputs": [],
   "source": [
    "#Crear objeto de la clase ConteoTexto para las pruebas e imprimir \n",
    "objeto_frase = AnalizadorTexto(\"Hola como estas como ja ja jaj ja\")"
   ]
  },
  {
   "cell_type": "markdown",
   "id": "bb7b46bb-a041-465e-ac94-3fa1b0fab184",
   "metadata": {},
   "source": [
    "## 1.Conteo de palabras"
   ]
  },
  {
   "cell_type": "code",
   "execution_count": 4,
   "id": "a584ecb3-8faf-40b6-83fb-afbbe8791cf6",
   "metadata": {},
   "outputs": [
    {
     "name": "stdout",
     "output_type": "stream",
     "text": [
      "{'como': 2, 'estas': 1, 'Hola': 1, 'ja': 3, 'jaj': 1}\n"
     ]
    }
   ],
   "source": [
    "#Ejecutando el metodo de conteo_palabras en el objeto objeto_frase e imprimir \n",
    "print(objeto_frase.conteo_palabras())"
   ]
  },
  {
   "cell_type": "markdown",
   "id": "b722749a-8081-4cc1-9099-2c95684194eb",
   "metadata": {},
   "source": [
    "## 2.Conteo de palabras y de letras"
   ]
  },
  {
   "cell_type": "code",
   "execution_count": 5,
   "id": "b3f7d542-6b34-456a-b9cc-e31c228943ea",
   "metadata": {},
   "outputs": [
    {
     "name": "stdout",
     "output_type": "stream",
     "text": [
      "{'como': {'c': 1, 'o': 2, 'm': 1}, 'estas': {'e': 1, 't': 1, 's': 2, 'a': 1}, 'Hola': {'l': 1, 'o': 1, 'H': 1, 'a': 1}, 'ja': {'a': 1, 'j': 1}, 'jaj': {'a': 1, 'j': 2}}\n"
     ]
    }
   ],
   "source": [
    "#Ejecutando el metodo de conteo_letras en el objeto objeto_frase e imprimir \n",
    "print(objeto_frase.conteo_letras())"
   ]
  },
  {
   "cell_type": "markdown",
   "id": "77d54cdc-c112-4a97-835e-6f7284cbfd25",
   "metadata": {},
   "source": [
    "## 3.Banda móvil"
   ]
  },
  {
   "cell_type": "code",
   "execution_count": 6,
   "id": "d045c975-3683-4f93-853b-f9b26edf558e",
   "metadata": {},
   "outputs": [
    {
     "name": "stdout",
     "output_type": "stream",
     "text": [
      "{'m': 1, 'l': 1, 'c': 1, 'a': 1, 'o': 2, 'H': 1}\n"
     ]
    }
   ],
   "source": [
    "#Ejecutando el metodo de banda_movil en el objeto objeto_frase e imprimir \n",
    "print(objeto_frase.banda_movil(0, 8))"
   ]
  },
  {
   "cell_type": "code",
   "execution_count": 9,
   "id": "3e6b5f60-9362-4c44-a462-c87ded848a10",
   "metadata": {},
   "outputs": [
    {
     "name": "stdout",
     "output_type": "stream",
     "text": [
      "Help on method banda_movil in module ConteoTexto:\n",
      "\n",
      "banda_movil(mini, maxi) method of ConteoTexto.AnalizadorTexto instance\n",
      "    Método de la clase AnalizadorTexto para analizar \n",
      "    una subfrase del texto original.\n",
      "    \n",
      "    :param mini: Índice de inicio de la subfrase.\n",
      "    :type mini: int\n",
      "    :param maxi: Índice de fin de la subfrase.\n",
      "    :type maxi: int\n",
      "    :return: Un diccionario con el conteo de cada letra en la subfrase.\n",
      "    :rtype: dict or str\n",
      "\n"
     ]
    }
   ],
   "source": [
    "#Ver informacion de alguna funcion\n",
    "help(objeto_frase.banda_movil)"
   ]
  },
  {
   "cell_type": "code",
   "execution_count": null,
   "id": "8e78a1b2-0941-4af3-b9b8-f14cba6b7e47",
   "metadata": {},
   "outputs": [],
   "source": []
  }
 ],
 "metadata": {
  "kernelspec": {
   "display_name": "Python 3 (ipykernel)",
   "language": "python",
   "name": "python3"
  },
  "language_info": {
   "codemirror_mode": {
    "name": "ipython",
    "version": 3
   },
   "file_extension": ".py",
   "mimetype": "text/x-python",
   "name": "python",
   "nbconvert_exporter": "python",
   "pygments_lexer": "ipython3",
   "version": "3.11.7"
  }
 },
 "nbformat": 4,
 "nbformat_minor": 5
}
