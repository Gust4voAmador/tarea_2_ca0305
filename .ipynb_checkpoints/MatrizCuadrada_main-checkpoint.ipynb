{
 "cells": [
  {
   "cell_type": "markdown",
   "id": "37b69ff0-6c47-43a5-95ed-d3e67e05c5fc",
   "metadata": {},
   "source": [
    "# Llamar las clases y librerías"
   ]
  },
  {
   "cell_type": "code",
   "execution_count": 1,
   "id": "cf86c6ed-cccb-4e4f-9468-e16938b5906a",
   "metadata": {},
   "outputs": [],
   "source": [
    "import numpy as np\n",
    "from MatrizCuadrada import MatrizNxm,MatrizCuadrada"
   ]
  },
  {
   "cell_type": "markdown",
   "id": "597e03f3-5916-45a0-bd1c-f3ccfb2674f9",
   "metadata": {},
   "source": [
    "## Crear objetos MatrizCuadrada"
   ]
  },
  {
   "cell_type": "code",
   "execution_count": 2,
   "id": "90a65ffe-eafa-4a03-8189-59d4836d7996",
   "metadata": {},
   "outputs": [],
   "source": [
    "ma = [[1,1],\n",
    "      [1,1]]\n",
    "\n",
    "mb = [[2,2],\n",
    "      [2,2]]\n",
    "\n",
    "matriz_dada = [[0 ,2, -1],\n",
    "               [0, 0, 1],\n",
    "               [0 ,0 ,0]]  \n",
    "\n",
    "a = MatrizCuadrada(\"A\", ma)\n",
    "b = MatrizCuadrada(\"B\", mb)\n",
    "A = MatrizCuadrada(\"A\", matriz_dada)\n",
    "\n",
    "#En el constructor de MatrizCuadrada para retornar error se usó  raise ValueError y la idea se obtuvo de:\n",
    "#https://docs.python.org/3/tutorial/errors.html"
   ]
  },
  {
   "cell_type": "markdown",
   "id": "f1ddb76b-b48b-4dd0-8b1b-6efdd5c2a9e4",
   "metadata": {},
   "source": [
    "## Suma de matrices cuadradas"
   ]
  },
  {
   "cell_type": "code",
   "execution_count": 3,
   "id": "c243d0cb-6065-4023-b8be-06f16fc40649",
   "metadata": {},
   "outputs": [
    {
     "name": "stdout",
     "output_type": "stream",
     "text": [
      "Matriz 'A+B':\n",
      "3 3 \n",
      "3 3 \n",
      "\n",
      "Matriz 'A+A':\n",
      "0 4 -2 \n",
      "0 0 2 \n",
      "0 0 0 \n",
      "\n"
     ]
    }
   ],
   "source": [
    "#Se llaman los objetos a y b creados anteriormente \n",
    "#Para retornar errores se en la funcion suma se apoyó en:  https://keepcoding.io/blog/funcion-isinstance-en-python/\n",
    "suma = MatrizCuadrada.funcion_suma(a, b)\n",
    "print(suma)\n",
    "\n",
    "print(MatrizCuadrada.funcion_suma(A,A))"
   ]
  },
  {
   "cell_type": "markdown",
   "id": "93cc5853-1beb-4d62-b416-6869f16e55b7",
   "metadata": {},
   "source": [
    "## Multiplicación matricial, con un escalar o vector fila"
   ]
  },
  {
   "cell_type": "code",
   "execution_count": 7,
   "id": "c9d78b41-673c-4cf5-ad22-64de37b7c09a",
   "metadata": {},
   "outputs": [
    {
     "name": "stdout",
     "output_type": "stream",
     "text": [
      "Matriz 'Producto':\n",
      "0 0 2 \n",
      "0 0 0 \n",
      "0 0 0 \n",
      "\n",
      "Matriz 'Producto':\n",
      "10.11 10.11 \n",
      "10.11 10.11 \n",
      "\n",
      "Matriz 'Matriz producto':\n",
      "6 6 \n",
      "\n",
      "Matriz 'Matriz producto':\n",
      "6 6 \n",
      "6 6 \n",
      "\n"
     ]
    }
   ],
   "source": [
    " # se utiliza tolist() para retornar una lista a parter de array de np y así:\n",
    "#https://www.programiz.com/python-programming/numpy/methods/tolist#:~:text=The%20tolist()%20method%20converts,changing%20its%20data%20or%20dimensions.\n",
    "\n",
    "#Con objeto de tipo MatrizNxm\n",
    "multi1 = MatrizCuadrada.funcion_multiplicacion(A,A)\n",
    "print(multi1)\n",
    "\n",
    "#Con un escalar\n",
    "multi2 = MatrizCuadrada.funcion_multiplicacion(a, 10.11)\n",
    "print(multi2)\n",
    "\n",
    "#Con un vector fila\n",
    "multi3 = MatrizCuadrada.funcion_multiplicacion(a, [3,3])\n",
    "print(multi3)\n",
    "\n",
    "#Con una matriz (lista de listas)\n",
    "multi4 = MatrizCuadrada.funcion_multiplicacion(a, [[3,3],[3,3]])\n",
    "print(multi4)"
   ]
  },
  {
   "cell_type": "markdown",
   "id": "8dac1f20-ebbb-4709-b3d8-ec958e89afb4",
   "metadata": {},
   "source": [
    "## Estimación de la inversa de una matriz"
   ]
  },
  {
   "cell_type": "code",
   "execution_count": null,
   "id": "157fba3d-1ee5-45de-bc3e-6828c8e4f185",
   "metadata": {},
   "outputs": [],
   "source": []
  }
 ],
 "metadata": {
  "kernelspec": {
   "display_name": "Python 3 (ipykernel)",
   "language": "python",
   "name": "python3"
  },
  "language_info": {
   "codemirror_mode": {
    "name": "ipython",
    "version": 3
   },
   "file_extension": ".py",
   "mimetype": "text/x-python",
   "name": "python",
   "nbconvert_exporter": "python",
   "pygments_lexer": "ipython3",
   "version": "3.11.7"
  }
 },
 "nbformat": 4,
 "nbformat_minor": 5
}
