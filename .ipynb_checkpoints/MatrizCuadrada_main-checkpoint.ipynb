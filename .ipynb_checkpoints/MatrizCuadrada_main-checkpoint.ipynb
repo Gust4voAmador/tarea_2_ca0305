{
 "cells": [
  {
   "cell_type": "markdown",
   "id": "37b69ff0-6c47-43a5-95ed-d3e67e05c5fc",
   "metadata": {},
   "source": [
    "# Llamar las clases y librerías"
   ]
  },
  {
   "cell_type": "code",
   "execution_count": 1,
   "id": "cf86c6ed-cccb-4e4f-9468-e16938b5906a",
   "metadata": {},
   "outputs": [],
   "source": [
    "import numpy as np\n",
    "from MatrizCuadrada import MatrizNxm,MatrizCuadrada"
   ]
  },
  {
   "cell_type": "markdown",
   "id": "530365c9-818e-41b4-8091-08095979f1c8",
   "metadata": {},
   "source": [
    "# Pruebe cada uno de los métodos"
   ]
  },
  {
   "cell_type": "markdown",
   "id": "597e03f3-5916-45a0-bd1c-f3ccfb2674f9",
   "metadata": {},
   "source": [
    "## Crear objetos MatrizCuadrada"
   ]
  },
  {
   "cell_type": "code",
   "execution_count": 2,
   "id": "90a65ffe-eafa-4a03-8189-59d4836d7996",
   "metadata": {},
   "outputs": [],
   "source": [
    "ma = [[1,1],\n",
    "      [1,1]]\n",
    "\n",
    "mb = [[2,2],\n",
    "      [2,2]]\n",
    "\n",
    "matriz_dada = [[0 ,2, -1],\n",
    "               [0, 0, 1],\n",
    "               [0 ,0 ,0]]  \n",
    "\n",
    "md = [[1,2],\n",
    "      [0,3]]\n",
    "\n",
    "a = MatrizCuadrada(\"A\", ma)\n",
    "b = MatrizCuadrada(\"B\", mb)\n",
    "A = MatrizCuadrada(\"A\", matriz_dada)\n",
    "d = MatrizCuadrada(\"B\", md)\n",
    "ident = MatrizCuadrada(\"Ident2x2\",[[1,0], [0,1]])\n",
    "#En el constructor de MatrizCuadrada para retornar error se usó  raise ValueError y la idea se obtuvo de:\n",
    "#https://docs.python.org/3/tutorial/errors.html"
   ]
  },
  {
   "cell_type": "markdown",
   "id": "f1ddb76b-b48b-4dd0-8b1b-6efdd5c2a9e4",
   "metadata": {},
   "source": [
    "## Suma de matrices cuadradas"
   ]
  },
  {
   "cell_type": "code",
   "execution_count": 3,
   "id": "c243d0cb-6065-4023-b8be-06f16fc40649",
   "metadata": {},
   "outputs": [
    {
     "name": "stdout",
     "output_type": "stream",
     "text": [
      "Matriz 'A+B':\n",
      "3 3 \n",
      "3 3 \n",
      "\n",
      "Matriz 'A+A':\n",
      "0 4 -2 \n",
      "0 0 2 \n",
      "0 0 0 \n",
      "\n"
     ]
    }
   ],
   "source": [
    "#Se llaman los objetos a y b creados anteriormente \n",
    "#Para retornar errores se en la funcion suma se apoyó en:  https://keepcoding.io/blog/funcion-isinstance-en-python/\n",
    "suma = MatrizCuadrada.metodo_suma(a, b)\n",
    "print(suma)\n",
    "\n",
    "print(MatrizCuadrada.metodo_suma(A,A))\n",
    "\n"
   ]
  },
  {
   "cell_type": "markdown",
   "id": "93cc5853-1beb-4d62-b416-6869f16e55b7",
   "metadata": {},
   "source": [
    "## Multiplicación matricial, con un escalar o vector fila"
   ]
  },
  {
   "cell_type": "code",
   "execution_count": 4,
   "id": "c9d78b41-673c-4cf5-ad22-64de37b7c09a",
   "metadata": {},
   "outputs": [
    {
     "name": "stdout",
     "output_type": "stream",
     "text": [
      "Matriz 'Producto':\n",
      "0 0 2 \n",
      "0 0 0 \n",
      "0 0 0 \n",
      "\n",
      "Matriz 'Producto':\n",
      "10.11 10.11 \n",
      "10.11 10.11 \n",
      "\n",
      "Matriz 'Matriz producto':\n",
      "6 6 \n",
      "\n",
      "Matriz 'Matriz producto':\n",
      "6 6 \n",
      "6 6 \n",
      "\n"
     ]
    }
   ],
   "source": [
    " # se utiliza tolist() para retornar una lista a parter de array de np y así:\n",
    "#https://www.programiz.com/python-programming/numpy/methods/tolist#:~:text=The%20tolist()%20method%20converts,changing%20its%20data%20or%20dimensions.\n",
    "\n",
    "#Con objeto de tipo MatrizNxm\n",
    "multi1 = MatrizCuadrada.metodo_multiplicacion(A,A)\n",
    "print(multi1)\n",
    "\n",
    "#Con un escalar\n",
    "multi2 = MatrizCuadrada.metodo_multiplicacion(a, 10.11)\n",
    "print(multi2)\n",
    "\n",
    "#Con un vector fila\n",
    "multi3 = MatrizCuadrada.metodo_multiplicacion(a, [3,3])\n",
    "print(multi3)\n",
    "\n",
    "#Con una matriz (lista de listas)\n",
    "multi4 = MatrizCuadrada.metodo_multiplicacion(a, [[3,3],[3,3]])\n",
    "print(multi4)\n",
    "\n"
   ]
  },
  {
   "cell_type": "markdown",
   "id": "8dac1f20-ebbb-4709-b3d8-ec958e89afb4",
   "metadata": {},
   "source": [
    "## Estimación de la inversa de una matriz"
   ]
  },
  {
   "cell_type": "code",
   "execution_count": 5,
   "id": "157fba3d-1ee5-45de-bc3e-6828c8e4f185",
   "metadata": {},
   "outputs": [
    {
     "name": "stdout",
     "output_type": "stream",
     "text": [
      "Matriz '(B)^-1':\n",
      "1.0 -0.6666666666666666 \n",
      "0.0 0.3333333333333333 \n",
      "\n",
      "Matriz '(Ident2x2)^-1':\n",
      "1.0 0.0 \n",
      "0.0 1.0 \n",
      "\n"
     ]
    }
   ],
   "source": [
    "#https://numpy.org/doc/stable/reference/generated/numpy.linalg.inv.html\n",
    "#https://keepcoding.io/blog/funcion-isinstance-en-python/\n",
    "\n",
    "\n",
    "#Probar matriz invertible\n",
    "inver2 = MatrizCuadrada.inversa(d)\n",
    "print(inver2)\n",
    "\n",
    "#Probar matriz identidad\n",
    "print(MatrizCuadrada.inversa(ident))\n",
    "\n"
   ]
  },
  {
   "cell_type": "markdown",
   "id": "c4defb9c-d927-48d5-ab4b-a2e5092faf33",
   "metadata": {},
   "source": [
    "## Transpuesta de una matriz"
   ]
  },
  {
   "cell_type": "code",
   "execution_count": 6,
   "id": "54d57413-c905-4530-8bb3-c2f96e2be40f",
   "metadata": {},
   "outputs": [
    {
     "name": "stdout",
     "output_type": "stream",
     "text": [
      "Matriz 'A^T':\n",
      "1 1 \n",
      "1 1 \n",
      "\n",
      "Matriz 'B^T':\n",
      "1 0 \n",
      "2 3 \n",
      "\n",
      "Matriz 'A^T':\n",
      "0 0 0 \n",
      "2 0 0 \n",
      "-1 1 0 \n",
      "\n"
     ]
    }
   ],
   "source": [
    "#https://docs.python.org/3/library/copy.html copiar la matriz de un objeto\n",
    "\n",
    "#Con todas las entradas iguales\n",
    "print(MatrizCuadrada.transpuesta(a))\n",
    "\n",
    "#Con una invertibles \n",
    "print(MatrizCuadrada.transpuesta(d))\n",
    "\n",
    "#Con la matriz dada en las indicaciones:\n",
    "print(MatrizCuadrada.transpuesta(A))\n",
    "\n"
   ]
  },
  {
   "cell_type": "markdown",
   "id": "82016d20-5f0c-4d1f-89f1-4ce77c866324",
   "metadata": {},
   "source": [
    "## Estimación de valores propios"
   ]
  },
  {
   "cell_type": "code",
   "execution_count": 7,
   "id": "d43008f6-7796-46e5-a268-a04aa7417445",
   "metadata": {},
   "outputs": [
    {
     "name": "stdout",
     "output_type": "stream",
     "text": [
      "[2. 0.]\n",
      "[0. 0. 0.]\n",
      "[4.0000000e+00 4.4408921e-16]\n"
     ]
    }
   ],
   "source": [
    "#usar objeto matriz de np con: https://numpy.org/doc/stable/reference/generated/numpy.array.html\n",
    "#Calculo de valores propios con: https://numpy.org/doc/stable/reference/generated/numpy.linalg.eigvals.html\n",
    "\n",
    "#Con matriz con todas las entradas iguales\n",
    "print(MatrizCuadrada.valores_propios(a))\n",
    "\n",
    "#Con la matriz dada en las indicaciones:\n",
    "print(MatrizCuadrada.valores_propios(A))\n",
    "\n",
    "#Otra matriz con las entradas iguales pero diferente a la primera\n",
    "print(MatrizCuadrada.valores_propios(b))"
   ]
  },
  {
   "cell_type": "markdown",
   "id": "32eab584-c741-4c36-8c7f-e69e970ec85f",
   "metadata": {},
   "source": [
    "## Estimación de vectores propios"
   ]
  },
  {
   "cell_type": "code",
   "execution_count": 8,
   "id": "d324ef74-4ed4-42b2-91bd-0081e678ec5e",
   "metadata": {},
   "outputs": [
    {
     "name": "stdout",
     "output_type": "stream",
     "text": [
      "vectores propios entradas iguales a 1:\n",
      "[[ 0.70710678 -0.70710678]\n",
      " [ 0.70710678  0.70710678]]\n",
      "\n",
      " vectores propios matriz A dada: \n",
      "[[ 1.00000000e+000 -1.00000000e+000  1.00000000e+000]\n",
      " [ 0.00000000e+000  1.50312627e-292 -1.50312627e-292]\n",
      " [ 0.00000000e+000  0.00000000e+000  0.00000000e+000]]\n",
      "\n",
      " vectores propios entradas iguales a 2:\n",
      "[[ 0.70710678 -0.70710678]\n",
      " [ 0.70710678  0.70710678]]\n"
     ]
    }
   ],
   "source": [
    "#Para el cáculo de los vectores propios: https://numpy.org/doc/stable/reference/generated/numpy.linalg.eig.html\n",
    "\n",
    "print(\"vectores propios entradas iguales a 1:\")\n",
    "#Con matriz con todas las entradas iguales\n",
    "print(MatrizCuadrada.vectores_propios(a))\n",
    "\n",
    "print(\"\\n vectores propios matriz A dada: \" )\n",
    "#Con la matriz dada en las indicaciones:\n",
    "print(MatrizCuadrada.vectores_propios(A))\n",
    "\n",
    "print(\"\\n vectores propios entradas iguales a 2:\" )\n",
    "#Otra matriz con las entradas iguales pero diferente a la primera\n",
    "print(MatrizCuadrada.vectores_propios(b))\n"
   ]
  },
  {
   "cell_type": "markdown",
   "id": "907a4d23-c485-4d05-af14-33a76fac08b9",
   "metadata": {},
   "source": [
    "## Descomposición en Valores Singulares (DVS)"
   ]
  },
  {
   "cell_type": "code",
   "execution_count": 9,
   "id": "20d35b2a-a0c2-484e-9d64-b820475ee09e",
   "metadata": {},
   "outputs": [
    {
     "name": "stdout",
     "output_type": "stream",
     "text": [
      "Valores singulares entradas iguales a 1:\n",
      "{'U': array([[-0.70710678, -0.70710678],\n",
      "       [-0.70710678,  0.70710678]]), 'S': array([2.00000000e+00, 3.35470445e-17]), 'V^T': array([[-0.70710678, -0.70710678],\n",
      "       [ 0.70710678, -0.70710678]])}\n",
      "\n",
      " Valores singulares matriz A dada: \n",
      "{'U': array([[ 0.97324899,  0.22975292,  0.        ],\n",
      "       [-0.22975292,  0.97324899,  0.        ],\n",
      "       [ 0.        ,  0.        ,  1.        ]]), 'S': array([2.28824561, 0.87403205, 0.        ]), 'V^T': array([[-0.        ,  0.85065081, -0.52573111],\n",
      "       [ 0.        ,  0.52573111,  0.85065081],\n",
      "       [ 1.        ,  0.        ,  0.        ]])}\n"
     ]
    }
   ],
   "source": [
    "#Para el cálculo de valores singulares se hizo con: https://numpy.org/doc/stable/reference/generated/numpy.linalg.svd.html\n",
    "print(\"Valores singulares entradas iguales a 1:\")\n",
    "print(MatrizCuadrada.valores_singulares(a))\n",
    "\n",
    "print(\"\\n Valores singulares matriz A dada: \" )\n",
    "print(MatrizCuadrada.valores_singulares(A))"
   ]
  },
  {
   "cell_type": "markdown",
   "id": "48bee056-b11b-40d7-9154-7cf1a12aa78c",
   "metadata": {},
   "source": [
    "# Dada la matriz A demuestre que A3 es la matriz nula"
   ]
  },
  {
   "cell_type": "code",
   "execution_count": 10,
   "id": "9432b7b2-b14c-455b-be64-788df08bc9fe",
   "metadata": {},
   "outputs": [
    {
     "name": "stdout",
     "output_type": "stream",
     "text": [
      "Note que la matriz A^3 es nula:\n",
      "Matriz 'Producto':\n",
      "0 0 0 \n",
      "0 0 0 \n",
      "0 0 0 \n",
      "\n"
     ]
    }
   ],
   "source": [
    "# Matriz dada (lista de listas)\n",
    "matriz_dada = [[0 ,2, -1],\n",
    "               [0, 0, 1],\n",
    "               [0 ,0 ,0]]\n",
    "#Crear el objeto MatrizCuadrad ya que tiene las propiedades para serlo\n",
    "A = MatrizCuadrada(\"A\", matriz_dada)\n",
    "\n",
    "#Obtener la matriz A^2 (A_2) al multiplicar A*A:\n",
    "A_2 = MatrizCuadrada.metodo_multiplicacion(A,A)\n",
    "\n",
    "#Ahora obtener la matriz A^3 (A_3) al multiplicar A*A^2:\n",
    "A_3 = MatrizCuadrada.metodo_multiplicacion(A_2,A)\n",
    "\n",
    "print(\"Note que la matriz A^3 es nula:\")\n",
    "print(A_3)\n",
    "\n"
   ]
  },
  {
   "cell_type": "markdown",
   "id": "2a787364-4775-4719-b85e-ca20e00c7ea8",
   "metadata": {},
   "source": [
    "# Muestre que el polinomio de grado n, pn(A), cuando n = 2 es la matriz inversa de I − A"
   ]
  },
  {
   "cell_type": "markdown",
   "id": "7edc3df8-a78b-4d8d-8fab-6a7341842978",
   "metadata": {},
   "source": [
    "### Obtener la matriz inversa de I - A"
   ]
  },
  {
   "cell_type": "code",
   "execution_count": 11,
   "id": "e34059b6-593c-46c6-b243-c20ee871ae92",
   "metadata": {},
   "outputs": [
    {
     "name": "stdout",
     "output_type": "stream",
     "text": [
      "Matriz '(I+-A)^-1':\n",
      "1.0 2.0 1.0 \n",
      "0.0 1.0 1.0 \n",
      "0.0 0.0 1.0 \n",
      "\n"
     ]
    }
   ],
   "source": [
    "#Primeramete Obtengamos la inversa de la matriz I-A, para esto sumemos la matriz -A a la identidad:\n",
    "\n",
    "#Crear los objetos mastriz identidad y A negativa respectivamente:\n",
    "I =  MatrizCuadrada(\"I\", [[1,0,0],[0,1,0],[0,0,1]])\n",
    "_A =  MatrizCuadrada(\"-A\", [[0 ,-2, 1],[0, 0, -1],[0 ,0 ,0]])\n",
    "\n",
    "#Calcular la resta I-A:\n",
    "I_A = MatrizCuadrada.metodo_suma(I, _A)\n",
    "\n",
    "#Obtener la inversa de I-A:\n",
    "inv_I_A = MatrizCuadrada.inversa(I_A)\n",
    "\n",
    "print(inv_I_A)"
   ]
  },
  {
   "cell_type": "markdown",
   "id": "e4e72ffe-f0b5-4840-af16-7fd87a5b4f9a",
   "metadata": {},
   "source": [
    "### Calcular el polinomio de grado n, pn(A), cuando n = 2"
   ]
  },
  {
   "cell_type": "code",
   "execution_count": 12,
   "id": "1a8e71b4-ecf4-48f8-b5b1-78e30a467aee",
   "metadata": {},
   "outputs": [
    {
     "name": "stdout",
     "output_type": "stream",
     "text": [
      "Notese que el polinomio I+A+A^2 es igual a la matriz inversa de I-A:\n",
      "Matriz 'I+A+A^2':\n",
      "1 2 1 \n",
      "0 1 1 \n",
      "0 0 1 \n",
      "\n",
      "Matriz '(I+-A)^-1':\n",
      "1.0 2.0 1.0 \n",
      "0.0 1.0 1.0 \n",
      "0.0 0.0 1.0 \n",
      "\n"
     ]
    }
   ],
   "source": [
    "# Se debe realizar la operacion: I + A + A^2\n",
    "#Calcular las matrices A y A^2 (a pesar que se habían calculado anteriormente):\n",
    "#Crear el objeto MatrizCuadrad ya que tiene las propiedades para serlo\n",
    "A = MatrizCuadrada(\"A\", matriz_dada)\n",
    "\n",
    "#Obtener la matriz A^2 (A_2) al multiplicar A*A:\n",
    "A_2 = MatrizCuadrada.metodo_multiplicacion(A,A)\n",
    "\n",
    "#Calculo de la suma: A + A^2\n",
    "\n",
    "#Dado que las indicaciones decía crear un metodo suma para matrices cuadradas, este método tiene como requisito que la matriz A_2 MatrizCuadrada.\n",
    "#Dado que cumple con los requisitos de misma cantidad de filas y columnas, solo la convertimos:\n",
    "A_2_cuadrada = MatrizCuadrada(\"A^2\", A_2.matriz)\n",
    "\n",
    "#Realizamos la suma\n",
    "AA_2 = MatrizCuadrada.metodo_suma(A,A_2_cuadrada )\n",
    "\n",
    "#Ahora relizamos la suma de AA^2 + I para tener el polinomio:\n",
    "IAA_2 = MatrizCuadrada.metodo_suma(I, AA_2 )\n",
    "\n",
    "print(\"Notese que el polinomio I+A+A^2 es igual a la matriz inversa de I-A:\")\n",
    "print(IAA_2)\n",
    "print(inv_I_A)"
   ]
  },
  {
   "cell_type": "markdown",
   "id": "0df8cfcc-6480-4aa2-95c8-2fe8c17f7cdc",
   "metadata": {},
   "source": [
    "# Indicaciones de errores en operaciones en el ingreso de parámetros de un usuario\n"
   ]
  },
  {
   "cell_type": "code",
   "execution_count": 13,
   "id": "3440460e-b02b-4fe0-ba3d-700394954633",
   "metadata": {},
   "outputs": [
    {
     "ename": "TypeError",
     "evalue": "Ambos objetos de la clase MatrizCuadrada deben tener una matriz de iguales dimensiones",
     "output_type": "error",
     "traceback": [
      "\u001b[1;31m---------------------------------------------------------------------------\u001b[0m",
      "\u001b[1;31mTypeError\u001b[0m                                 Traceback (most recent call last)",
      "Cell \u001b[1;32mIn[13], line 2\u001b[0m\n\u001b[0;32m      1\u001b[0m \u001b[38;5;66;03m#Suma de matrices de diferente tamaño:\u001b[39;00m\n\u001b[1;32m----> 2\u001b[0m \u001b[38;5;28mprint\u001b[39m(MatrizCuadrada\u001b[38;5;241m.\u001b[39mmetodo_suma(a, A))\n",
      "File \u001b[1;32m~\\OneDrive - Universidad de Costa Rica\\I-2024\\Herramientas para ciencia de datos II\\Tareas\\Tarea 2\\MatrizCuadrada.py:240\u001b[0m, in \u001b[0;36mMatrizCuadrada.metodo_suma\u001b[1;34m(anxn, bnxn)\u001b[0m\n\u001b[0;32m    237\u001b[0m     \u001b[38;5;28;01mraise\u001b[39;00m \u001b[38;5;167;01mTypeError\u001b[39;00m(\u001b[38;5;124m\"\u001b[39m\u001b[38;5;124mEl argumento debe ser un objeto de la clase MatrizCuadrada\u001b[39m\u001b[38;5;124m\"\u001b[39m)\n\u001b[0;32m    239\u001b[0m \u001b[38;5;28;01mif\u001b[39;00m anxn\u001b[38;5;241m.\u001b[39mfilas \u001b[38;5;241m!=\u001b[39m bnxn\u001b[38;5;241m.\u001b[39mfilas \u001b[38;5;129;01mor\u001b[39;00m anxn\u001b[38;5;241m.\u001b[39mcolumnas \u001b[38;5;241m!=\u001b[39m bnxn\u001b[38;5;241m.\u001b[39mcolumnas:\n\u001b[1;32m--> 240\u001b[0m     \u001b[38;5;28;01mraise\u001b[39;00m \u001b[38;5;167;01mTypeError\u001b[39;00m(\u001b[38;5;124m\"\u001b[39m\u001b[38;5;124mAmbos objetos de la clase MatrizCuadrada deben tener una matriz de iguales dimensiones\u001b[39m\u001b[38;5;124m\"\u001b[39m)\n\u001b[0;32m    241\u001b[0m \u001b[38;5;66;03m#crear una matriz compia de anxn para tener molde para la matriz suma\u001b[39;00m\n\u001b[0;32m    242\u001b[0m c \u001b[38;5;241m=\u001b[39m []\n",
      "\u001b[1;31mTypeError\u001b[0m: Ambos objetos de la clase MatrizCuadrada deben tener una matriz de iguales dimensiones"
     ]
    }
   ],
   "source": [
    "#Suma de matrices de diferente tamaño:\n",
    "print(MatrizCuadrada.metodo_suma(a, A))"
   ]
  },
  {
   "cell_type": "code",
   "execution_count": 16,
   "id": "a8f431e3-80a8-479d-a636-d4010fdcb349",
   "metadata": {},
   "outputs": [
    {
     "ename": "TypeError",
     "evalue": "No se pueden multiplicar. El número de columnas de la primera matriz no coincide con el numero de filas de la segunda matriz",
     "output_type": "error",
     "traceback": [
      "\u001b[1;31m---------------------------------------------------------------------------\u001b[0m",
      "\u001b[1;31mTypeError\u001b[0m                                 Traceback (most recent call last)",
      "Cell \u001b[1;32mIn[16], line 2\u001b[0m\n\u001b[0;32m      1\u001b[0m \u001b[38;5;66;03m#Multiplicacion de matrices de diferente tamaño de columnas e filas para ver error:\u001b[39;00m\n\u001b[1;32m----> 2\u001b[0m \u001b[38;5;28mprint\u001b[39m(MatrizCuadrada\u001b[38;5;241m.\u001b[39mmetodo_multiplicacion(A,a))\n",
      "File \u001b[1;32m~\\OneDrive - Universidad de Costa Rica\\I-2024\\Herramientas para ciencia de datos II\\Tareas\\Tarea 2\\MatrizCuadrada.py:387\u001b[0m, in \u001b[0;36mMatrizCuadrada.metodo_multiplicacion\u001b[1;34m(obj_matriz_nxn, factor)\u001b[0m\n\u001b[0;32m    383\u001b[0m \u001b[38;5;28;01mif\u001b[39;00m \u001b[38;5;28misinstance\u001b[39m(factor, MatrizNxm) \u001b[38;5;129;01mor\u001b[39;00m \u001b[38;5;28misinstance\u001b[39m(factor, MatrizCuadrada):\n\u001b[0;32m    384\u001b[0m     \n\u001b[0;32m    385\u001b[0m     \u001b[38;5;66;03m# Verificar si las matrices son son compatibles\u001b[39;00m\n\u001b[0;32m    386\u001b[0m     \u001b[38;5;28;01mif\u001b[39;00m obj_matriz_nxn\u001b[38;5;241m.\u001b[39mcolumnas \u001b[38;5;241m!=\u001b[39m factor\u001b[38;5;241m.\u001b[39mfilas:\n\u001b[1;32m--> 387\u001b[0m         \u001b[38;5;28;01mraise\u001b[39;00m \u001b[38;5;167;01mTypeError\u001b[39;00m(\u001b[38;5;124m\"\u001b[39m\u001b[38;5;124mNo se pueden multiplicar. El número de columnas de la primera matriz no coincide con el numero de filas de la segunda matriz\u001b[39m\u001b[38;5;124m\"\u001b[39m)\n\u001b[0;32m    389\u001b[0m     \u001b[38;5;66;03m# Convertir las matrices a arrays de NumPy\u001b[39;00m\n\u001b[0;32m    390\u001b[0m     matriz_1 \u001b[38;5;241m=\u001b[39m np\u001b[38;5;241m.\u001b[39marray(obj_matriz_nxn\u001b[38;5;241m.\u001b[39mmatriz)\n",
      "\u001b[1;31mTypeError\u001b[0m: No se pueden multiplicar. El número de columnas de la primera matriz no coincide con el numero de filas de la segunda matriz"
     ]
    }
   ],
   "source": [
    "#Multiplicacion de matrices de diferente tamaño de columnas e filas para ver error:\n",
    "print(MatrizCuadrada.metodo_multiplicacion(A,a))"
   ]
  },
  {
   "cell_type": "code",
   "execution_count": 14,
   "id": "1c2c25b2-6245-4c44-a403-ea66fd2c623d",
   "metadata": {},
   "outputs": [
    {
     "ename": "TypeError",
     "evalue": "El parámetro debe ser un objeto de la clase MatrizCuadrada",
     "output_type": "error",
     "traceback": [
      "\u001b[1;31m---------------------------------------------------------------------------\u001b[0m",
      "\u001b[1;31mTypeError\u001b[0m                                 Traceback (most recent call last)",
      "Cell \u001b[1;32mIn[14], line 3\u001b[0m\n\u001b[0;32m      1\u001b[0m \u001b[38;5;66;03m#Ingresar un objeto no MatrizCuadrada para ver error en la transpuesta:\u001b[39;00m\n\u001b[0;32m      2\u001b[0m \u001b[38;5;66;03m#Valores y vectores propios presentan esta advertencia, al igual que valores singulares.\u001b[39;00m\n\u001b[1;32m----> 3\u001b[0m \u001b[38;5;28mprint\u001b[39m(MatrizCuadrada\u001b[38;5;241m.\u001b[39mtranspuesta([[\u001b[38;5;241m1\u001b[39m,\u001b[38;5;241m2\u001b[39m],[\u001b[38;5;241m3\u001b[39m,\u001b[38;5;241m4\u001b[39m]]))\n",
      "File \u001b[1;32m~\\OneDrive - Universidad de Costa Rica\\I-2024\\Herramientas para ciencia de datos II\\Tareas\\Tarea 2\\MatrizCuadrada.py:477\u001b[0m, in \u001b[0;36mMatrizCuadrada.transpuesta\u001b[1;34m(anxn)\u001b[0m\n\u001b[0;32m    475\u001b[0m \u001b[38;5;66;03m#Verificar que anxn sea un objeto matirz cuadrada\u001b[39;00m\n\u001b[0;32m    476\u001b[0m \u001b[38;5;28;01mif\u001b[39;00m \u001b[38;5;129;01mnot\u001b[39;00m \u001b[38;5;28misinstance\u001b[39m(anxn, MatrizCuadrada):\n\u001b[1;32m--> 477\u001b[0m     \u001b[38;5;28;01mraise\u001b[39;00m \u001b[38;5;167;01mTypeError\u001b[39;00m(\u001b[38;5;124m\"\u001b[39m\u001b[38;5;124mEl parámetro debe ser un objeto de la clase MatrizCuadrada\u001b[39m\u001b[38;5;124m\"\u001b[39m)\n\u001b[0;32m    479\u001b[0m \u001b[38;5;66;03m#extraer la matriz del objeto\u001b[39;00m\n\u001b[0;32m    480\u001b[0m matriz \u001b[38;5;241m=\u001b[39m anxn\u001b[38;5;241m.\u001b[39mmatriz\n",
      "\u001b[1;31mTypeError\u001b[0m: El parámetro debe ser un objeto de la clase MatrizCuadrada"
     ]
    }
   ],
   "source": [
    "#Ingresar un objeto no MatrizCuadrada para ver error en la transpuesta:\n",
    "#Valores y vectores propios presentan esta advertencia, al igual que valores singulares.\n",
    "print(MatrizCuadrada.transpuesta([[1,2],[3,4]]))"
   ]
  },
  {
   "cell_type": "code",
   "execution_count": 15,
   "id": "d1df640d-2c00-46a5-af28-bbb68e888d61",
   "metadata": {},
   "outputs": [
    {
     "name": "stdout",
     "output_type": "stream",
     "text": [
      "La matriz A no es invertible\n",
      "None\n"
     ]
    }
   ],
   "source": [
    "#Probar matriz no invertible\n",
    "inver2 = MatrizCuadrada.inversa(a)\n",
    "print(inver2)"
   ]
  }
 ],
 "metadata": {
  "kernelspec": {
   "display_name": "Python 3 (ipykernel)",
   "language": "python",
   "name": "python3"
  },
  "language_info": {
   "codemirror_mode": {
    "name": "ipython",
    "version": 3
   },
   "file_extension": ".py",
   "mimetype": "text/x-python",
   "name": "python",
   "nbconvert_exporter": "python",
   "pygments_lexer": "ipython3",
   "version": "3.11.7"
  }
 },
 "nbformat": 4,
 "nbformat_minor": 5
}
