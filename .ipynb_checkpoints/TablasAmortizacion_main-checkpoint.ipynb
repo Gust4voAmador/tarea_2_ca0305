{
 "cells": [
  {
   "cell_type": "markdown",
   "id": "65ee9f81-690e-4b53-a553-72ca8f3b4af3",
   "metadata": {},
   "source": [
    "# Llamar clases y librerías"
   ]
  },
  {
   "cell_type": "code",
   "execution_count": 1,
   "id": "9ec3970d-22d1-4249-a74f-f53e232d7c19",
   "metadata": {},
   "outputs": [],
   "source": [
    "import pandas as pd\n",
    "\n",
    "#Clase amortization_schedule extraida de: https://pypi.org/project/amortization/\n",
    "from amortization.schedule import amortization_schedule\n",
    "\n",
    "from TablasAmortizacion import TablaAmortizacion,TablaAmortizacionPersonalizada"
   ]
  },
  {
   "cell_type": "markdown",
   "id": "a8b609c8-d90c-4e0f-84bb-4c43d718a6d7",
   "metadata": {},
   "source": [
    "## Construccion de tabla de amortización de un préstamo"
   ]
  },
  {
   "cell_type": "code",
   "execution_count": 2,
   "id": "f6e96a8e-47d8-42e6-8a88-ca882fb37c6c",
   "metadata": {
    "scrolled": true
   },
   "outputs": [],
   "source": [
    "#Creacion de tabla de amortizacion con tasa fija\n",
    "# Con ayuda de la clase obtenida de: #https://pypi.org/project/amortization/\n",
    "#Cortar df: https://pandas.pydata.org/docs/reference/api/pandas.DataFrame.iloc.html\n",
    "\n",
    "#Crea tabla con tasa fija\n",
    "tabla_amortizacion_fija = TablaAmortizacion(36,0.1,1500000,False)\n",
    "\n",
    "#Ver información del método constructor del objeto:\n",
    "#help(tabla_amortizacion_fija)\n",
    "\n",
    "#Crear tabla con tasa variables\n",
    "tabla_amortizacion_variable = TablaAmortizacion(36,0.1,1500000,True)"
   ]
  },
  {
   "cell_type": "markdown",
   "id": "b2961aec-b1c0-4a22-8078-29113797da6c",
   "metadata": {},
   "source": [
    "### Mostrar tabla de amortización con tasa fija"
   ]
  },
  {
   "cell_type": "code",
   "execution_count": 3,
   "id": "5191b694-ad26-4816-ac36-8d0037ad1324",
   "metadata": {
    "scrolled": true
   },
   "outputs": [
    {
     "name": "stdout",
     "output_type": "stream",
     "text": [
      "    Month    Amount  Interest  Principal     Balance\n",
      "0       1  44289.92   1046.61   43243.31  1531756.69\n",
      "1       2  44289.92   1017.87   43272.05  1488484.64\n",
      "2       3  44289.92    989.12   43300.80  1445183.84\n",
      "3       4  44289.92    960.34   43329.58  1401854.26\n",
      "4       5  44289.92    931.55   43358.37  1358495.89\n",
      "5       6  44289.92    902.74   43387.18  1315108.71\n",
      "6       7  44289.92    873.91   43416.01  1271692.70\n",
      "7       8  44289.92    845.05   43444.87  1228247.83\n",
      "8       9  44289.92    816.19   43473.73  1184774.10\n",
      "9      10  44289.92    787.30   43502.62  1141271.48\n",
      "10     11  44289.92    758.39   43531.53  1097739.95\n",
      "11     12  44289.92    729.46   43560.46  1054179.49\n",
      "12     13  44289.92    700.51   43589.41  1010590.08\n",
      "13     14  44289.92    671.55   43618.37   966971.71\n",
      "14     15  44289.92    642.56   43647.36   923324.35\n",
      "15     16  44289.92    613.56   43676.36   879647.99\n",
      "16     17  44289.92    584.54   43705.38   835942.61\n",
      "17     18  44289.92    555.49   43734.43   792208.18\n",
      "18     19  44289.92    526.43   43763.49   748444.69\n",
      "19     20  44289.92    497.35   43792.57   704652.12\n",
      "20     21  44289.92    468.25   43821.67   660830.45\n",
      "21     22  44289.92    439.13   43850.79   616979.66\n",
      "22     23  44289.92    409.99   43879.93   573099.73\n",
      "23     24  44289.92    380.83   43909.09   529190.64\n",
      "24     25  44289.92    351.65   43938.27   485252.37\n",
      "25     26  44289.92    322.46   43967.46   441284.91\n",
      "26     27  44289.92    293.24   43996.68   397288.23\n",
      "27     28  44289.92    264.00   44025.92   353262.31\n",
      "28     29  44289.92    234.75   44055.17   309207.14\n",
      "29     30  44289.92    205.47   44084.45   265122.69\n",
      "30     31  44289.92    176.18   44113.74   221008.95\n",
      "31     32  44289.92    146.86   44143.06   176865.89\n",
      "32     33  44289.92    117.53   44172.39   132693.50\n",
      "33     34  44289.92     88.18   44201.74    88491.76\n",
      "34     35  44289.92     58.80   44231.12    44260.64\n",
      "35     36  44290.05     29.41   44260.64        0.00\n"
     ]
    }
   ],
   "source": [
    "#Tabla creada anteriormente\n",
    "print(tabla_amortizacion_fija)"
   ]
  },
  {
   "cell_type": "markdown",
   "id": "d4d1fea0-7d61-4e31-80cf-b6a30359969e",
   "metadata": {},
   "source": [
    "### Mostrar tabla de amortización con tasa variable"
   ]
  },
  {
   "cell_type": "code",
   "execution_count": 4,
   "id": "c8c520ab-2076-432a-b74b-e91755351629",
   "metadata": {
    "scrolled": true
   },
   "outputs": [
    {
     "name": "stdout",
     "output_type": "stream",
     "text": [
      "    Month    Amount  Interest  Principal     Balance\n",
      "0       1  44177.75    829.84   43347.91  1531652.09\n",
      "1       2  44177.75    807.00   43370.75  1488281.34\n",
      "2       3  44177.75    784.15   43393.60  1444887.74\n",
      "3       4  44177.75    761.28   43416.47  1401471.27\n",
      "4       5  44177.75    738.41   43439.34  1358031.93\n",
      "5       6  44177.75    715.52   43462.23  1314569.70\n",
      "6       7  44177.75    692.62   43485.13  1271084.57\n",
      "7       8  44177.75    669.71   43508.04  1227576.53\n",
      "8       9  44177.75    646.79   43530.96  1184045.57\n",
      "9      10  44177.75    623.85   43553.90  1140491.67\n",
      "10     11  44177.75    600.90   43576.85  1096914.82\n",
      "11     12  44177.75    577.94   43599.81  1053315.01\n",
      "12     13  44253.61    699.94   43553.67  1009761.34\n",
      "13     14  44253.61    671.00   43582.61   966178.73\n",
      "14     15  44253.61    642.04   43611.57   922567.16\n",
      "15     16  44253.61    613.06   43640.55   878926.61\n",
      "16     17  44253.61    584.06   43669.55   835257.06\n",
      "17     18  44253.61    555.04   43698.57   791558.49\n",
      "18     19  44253.61    526.00   43727.61   747830.88\n",
      "19     20  44253.61    496.94   43756.67   704074.21\n",
      "20     21  44253.61    467.87   43785.74   660288.47\n",
      "21     22  44253.61    438.77   43814.84   616473.63\n",
      "22     23  44253.61    409.65   43843.96   572629.67\n",
      "23     24  44253.61    380.52   43873.09   528756.58\n",
      "24     25  44331.97    495.62   43836.35   484920.23\n",
      "25     26  44331.97    454.53   43877.44   441042.79\n",
      "26     27  44331.97    413.40   43918.57   397124.22\n",
      "27     28  44331.97    372.23   43959.74   353164.48\n",
      "28     29  44331.97    331.03   44000.94   309163.54\n",
      "29     30  44331.97    289.79   44042.18   265121.36\n",
      "30     31  44331.97    248.50   44083.47   221037.89\n",
      "31     32  44331.97    207.18   44124.79   176913.10\n",
      "32     33  44331.97    165.82   44166.15   132746.95\n",
      "33     34  44331.97    124.43   44207.54    88539.41\n",
      "34     35  44331.97     82.99   44248.98    44290.43\n",
      "35     36  44331.94     41.51   44290.43        0.00\n"
     ]
    }
   ],
   "source": [
    "#Tabla creada anteriormente\n",
    "print(tabla_amortizacion_variable)"
   ]
  },
  {
   "cell_type": "markdown",
   "id": "2b55a291-5c0d-41b4-8a90-f24653492fd4",
   "metadata": {},
   "source": [
    "## Mostrar tabla de amortización personalizada"
   ]
  },
  {
   "cell_type": "code",
   "execution_count": 5,
   "id": "52ff6d82-0dbc-43b7-9146-143d631e8675",
   "metadata": {
    "scrolled": true
   },
   "outputs": [],
   "source": [
    "#Usó las mismas referencias que las funciones anteriores\n",
    "\n",
    "tabla_amortizacion_perso = TablaAmortizacionPersonalizada(36,0.2,1500000,True, 0.1, 0.2 )\n",
    "#help(tabla_amortizacion_perso)"
   ]
  },
  {
   "cell_type": "code",
   "execution_count": 6,
   "id": "4dc4cdfa-5c65-482c-840d-6978fd5a9d93",
   "metadata": {
    "scrolled": true
   },
   "outputs": [
    {
     "name": "stdout",
     "output_type": "stream",
     "text": [
      "    Month    Amount  Interest  Principal     Balance\n",
      "0       1  44289.92   1046.61   43243.31  1531756.69\n",
      "1       2  44289.92   1017.87   43272.05  1488484.64\n",
      "2       3  44289.92    989.12   43300.80  1445183.84\n",
      "3       4  44289.92    960.34   43329.58  1401854.26\n",
      "4       5  44289.92    931.55   43358.37  1358495.89\n",
      "5       6  44289.92    902.74   43387.18  1315108.71\n",
      "6       7  44289.92    873.91   43416.01  1271692.70\n",
      "7       8  44289.92    845.05   43444.87  1228247.83\n",
      "8       9  44289.92    816.19   43473.73  1184774.10\n",
      "9      10  44289.92    787.30   43502.62  1141271.48\n",
      "10     11  44289.92    758.39   43531.53  1097739.95\n",
      "11     12  44289.92    729.46   43560.46  1054179.49\n",
      "12     13  44628.04   1344.91   43283.13  1010896.36\n",
      "13     14  44628.04   1289.69   43338.35   967558.01\n",
      "14     15  44628.04   1234.40   43393.64   924164.37\n",
      "15     16  44628.04   1179.04   43449.00   880715.37\n",
      "16     17  44628.04   1123.61   43504.43   837210.94\n",
      "17     18  44628.04   1068.10   43559.94   793651.00\n",
      "18     19  44628.04   1012.53   43615.51   750035.49\n",
      "19     20  44628.04    956.89   43671.15   706364.34\n",
      "20     21  44628.04    901.17   43726.87   662637.47\n",
      "21     22  44628.04    845.39   43782.65   618854.82\n",
      "22     23  44628.04    789.53   43838.51   575016.31\n",
      "23     24  44628.04    733.60   43894.44   531121.87\n",
      "24     25  44628.05    677.60   43950.45   487171.42\n",
      "25     26  44628.05    621.53   44006.52   443164.90\n",
      "26     27  44628.05    565.38   44062.67   399102.23\n",
      "27     28  44628.05    509.17   44118.88   354983.35\n",
      "28     29  44628.05    452.88   44175.17   310808.18\n",
      "29     30  44628.05    396.53   44231.52   266576.66\n",
      "30     31  44628.05    340.10   44287.95   222288.71\n",
      "31     32  44628.05    283.59   44344.46   177944.25\n",
      "32     33  44628.05    227.02   44401.03   133543.22\n",
      "33     34  44628.05    170.37   44457.68    89085.54\n",
      "34     35  44628.05    113.65   44514.40    44571.14\n",
      "35     36  44628.00     56.86   44571.14        0.00\n"
     ]
    }
   ],
   "source": [
    "print(tabla_amortizacion_perso)"
   ]
  },
  {
   "cell_type": "markdown",
   "id": "3ecf94b2-5f62-412c-acae-46f0cb5ec3f4",
   "metadata": {},
   "source": [
    "# Caso 1: por un plazo de 9 años con fija tasa TBP más 12%."
   ]
  },
  {
   "cell_type": "code",
   "execution_count": 7,
   "id": "90fffee4-3c4d-4241-88d6-85a80ed0db5b",
   "metadata": {},
   "outputs": [],
   "source": [
    "#https://gee.bccr.fi.cr/indicadoreseconomicos/cuadros/frmvercatcuadro.aspx?idioma=1&codcuadro=%2017\n",
    "#Tasa Básica Pasiva (2024-04-01): 0.0494\n",
    "TBP = 0.0494"
   ]
  },
  {
   "cell_type": "markdown",
   "id": "1904bae5-0316-444e-a54c-03f70597b2ff",
   "metadata": {},
   "source": [
    "## Para tasa fija"
   ]
  },
  {
   "cell_type": "code",
   "execution_count": 8,
   "id": "66d4e997-b87f-4c43-b5c7-8edda83f8853",
   "metadata": {},
   "outputs": [
    {
     "name": "stdout",
     "output_type": "stream",
     "text": [
      "     Month    Amount  Interest  Principal     Balance\n",
      "0        1  82504.90   9188.41   73316.49  8326683.51\n",
      "1        2  82504.90   9108.21   73396.69  8253286.82\n",
      "2        3  82504.90   9027.93   73476.97  8179809.85\n",
      "3        4  82504.90   8947.56   73557.34  8106252.51\n",
      "4        5  82504.90   8867.09   73637.81  8032614.70\n",
      "..     ...       ...       ...        ...         ...\n",
      "103    104  82504.90    449.77   82055.13   329119.37\n",
      "104    105  82504.90    360.01   82144.89   246974.48\n",
      "105    106  82504.90    270.16   82234.74   164739.74\n",
      "106    107  82504.90    180.20   82324.70    82415.04\n",
      "107    108  82505.19     90.15   82415.04        0.00\n",
      "\n",
      "[108 rows x 5 columns]\n"
     ]
    }
   ],
   "source": [
    "#Crea tabla con tasa fija\n",
    "amortizacion_fija = TablaAmortizacion(108,TBP + 0.12,8000000,False)\n",
    "print(amortizacion_fija)"
   ]
  },
  {
   "cell_type": "markdown",
   "id": "ef747802-40ce-4005-a9ef-ed605e96bb49",
   "metadata": {},
   "source": [
    "## Para tasa variable"
   ]
  },
  {
   "cell_type": "code",
   "execution_count": 9,
   "id": "4a0bbdc8-5724-430b-89ff-a6fc8330ea9b",
   "metadata": {},
   "outputs": [
    {
     "name": "stdout",
     "output_type": "stream",
     "text": [
      "     Month    Amount  Interest  Principal     Balance\n",
      "0        1  81900.19   8032.31   73867.88  8326132.12\n",
      "1        2  81900.19   7961.67   73938.52  8252193.60\n",
      "2        3  81900.19   7890.97   74009.22  8178184.38\n",
      "3        4  81900.19   7820.20   74079.99  8104104.39\n",
      "4        5  81900.19   7749.36   74150.83  8029953.56\n",
      "..     ...       ...       ...        ...         ...\n",
      "103    104  83383.03    567.46   82815.57   332395.65\n",
      "104    105  83383.03    454.28   82928.75   249466.90\n",
      "105    106  83383.03    340.94   83042.09   166424.81\n",
      "106    107  83383.03    227.45   83155.58    83269.23\n",
      "107    108  83383.03    113.80   83269.23        0.00\n",
      "\n",
      "[108 rows x 5 columns]\n"
     ]
    }
   ],
   "source": [
    "#Crea tabla con tasa fija\n",
    "amortizacion_variable = TablaAmortizacion(108,TBP + 0.12,8000000,True)\n",
    "print(amortizacion_variable)"
   ]
  },
  {
   "cell_type": "markdown",
   "id": "b722396b-331f-442c-a3de-5f9cc298c969",
   "metadata": {},
   "source": [
    "# Caso 2: primer año 2.2% menos a la tasa interés base, segundo año igual a la tasa interés base y los próximos años de 3.9%."
   ]
  },
  {
   "cell_type": "code",
   "execution_count": 10,
   "id": "4efc7b8c-7c5e-4252-9b8f-736a422c8d9b",
   "metadata": {},
   "outputs": [
    {
     "name": "stdout",
     "output_type": "stream",
     "text": [
      "     Month    Amount  Interest  Principal     Balance\n",
      "0        1  74144.46   8066.87   66077.59  8333922.41\n",
      "1        2  74144.46   8003.42   66141.04  8267781.37\n",
      "2        3  74144.46   7939.90   66204.56  8201576.81\n",
      "3        4  74144.46   7876.32   66268.14  8135308.67\n",
      "4        5  74144.46   7812.68   66331.78  8068976.89\n",
      "..     ...       ...       ...        ...         ...\n",
      "115    116  71769.86     95.42   71674.44   286888.44\n",
      "116    117  71769.86     76.34   71693.52   215194.92\n",
      "117    118  71769.86     57.27   71712.59   143482.33\n",
      "118    119  71769.86     38.18   71731.68    71750.65\n",
      "119    120  71769.74     19.09   71750.65        0.00\n",
      "\n",
      "[120 rows x 5 columns]\n"
     ]
    }
   ],
   "source": [
    "#Para calcular este caso se usa la amortización personalizada\n",
    "tabla_amortizacion_perso = TablaAmortizacionPersonalizada(120,TBP + 0.12,8000000,True,TBP + 0.12-0.022, 0.039)\n",
    "print(tabla_amortizacion_perso)"
   ]
  },
  {
   "cell_type": "markdown",
   "id": "2937f834-4934-4366-a1eb-d7160b905d1f",
   "metadata": {},
   "source": [
    "Se considera que la mejor opción para el vecino es la segunda, ya que presenta pagos mensuales más bajos y tasas de interés más\n",
    "bajas en general, sobretodo despues del tercer año, los intereses cobrados son sumamente bajos, por lo que apesar de durar más años \n",
    "se considera la mejor opción."
   ]
  }
 ],
 "metadata": {
  "kernelspec": {
   "display_name": "Python 3 (ipykernel)",
   "language": "python",
   "name": "python3"
  },
  "language_info": {
   "codemirror_mode": {
    "name": "ipython",
    "version": 3
   },
   "file_extension": ".py",
   "mimetype": "text/x-python",
   "name": "python",
   "nbconvert_exporter": "python",
   "pygments_lexer": "ipython3",
   "version": "3.11.7"
  }
 },
 "nbformat": 4,
 "nbformat_minor": 5
}
