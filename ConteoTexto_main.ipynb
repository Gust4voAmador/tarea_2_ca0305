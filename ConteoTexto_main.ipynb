{
 "cells": [
  {
   "cell_type": "markdown",
   "id": "328f5e4c-792a-45d9-878d-c3545c24cd44",
   "metadata": {},
   "source": [
    "# Llamar la clase"
   ]
  },
  {
   "cell_type": "code",
   "execution_count": 3,
   "id": "646355df-00a0-4520-b6fb-5e0a4f77575a",
   "metadata": {},
   "outputs": [],
   "source": [
    "from ConteoTexto import AnalizadorTexto "
   ]
  },
  {
   "cell_type": "code",
   "execution_count": 4,
   "id": "affc0852-3e08-4006-91b4-b1a294269fc9",
   "metadata": {},
   "outputs": [],
   "source": [
    "#Crear objeto de la clase ConteoTexto para las pruebas e imprimir \n",
    "objeto_frase = AnalizadorTexto(\"Hola como estas como ja ja jaj ja\")"
   ]
  },
  {
   "cell_type": "markdown",
   "id": "bb7b46bb-a041-465e-ac94-3fa1b0fab184",
   "metadata": {},
   "source": [
    "## 1.Conteo de palabras"
   ]
  },
  {
   "cell_type": "code",
   "execution_count": 5,
   "id": "a584ecb3-8faf-40b6-83fb-afbbe8791cf6",
   "metadata": {},
   "outputs": [
    {
     "name": "stdout",
     "output_type": "stream",
     "text": [
      "{'jaj': 1, 'Hola': 1, 'como': 2, 'estas': 1, 'ja': 3}\n"
     ]
    }
   ],
   "source": [
    "#Ejecutando el metodo de conteo_palabras en el objeto objeto_frase e imprimir \n",
    "print(objeto_frase.conteo_palabras())"
   ]
  },
  {
   "cell_type": "markdown",
   "id": "b722749a-8081-4cc1-9099-2c95684194eb",
   "metadata": {},
   "source": [
    "## 2.Conteo de palabras y de letras"
   ]
  },
  {
   "cell_type": "code",
   "execution_count": 6,
   "id": "b3f7d542-6b34-456a-b9cc-e31c228943ea",
   "metadata": {},
   "outputs": [
    {
     "name": "stdout",
     "output_type": "stream",
     "text": [
      "{'jaj': {'j': 2, 'a': 1}, 'Hola': {'o': 1, 'a': 1, 'l': 1, 'H': 1}, 'como': {'o': 2, 'm': 1, 'c': 1}, 'estas': {'a': 1, 'e': 1, 't': 1, 's': 2}, 'ja': {'j': 1, 'a': 1}}\n"
     ]
    }
   ],
   "source": [
    "#Ejecutando el metodo de conteo_letras en el objeto objeto_frase e imprimir \n",
    "print(objeto_frase.conteo_letras())"
   ]
  },
  {
   "cell_type": "markdown",
   "id": "77d54cdc-c112-4a97-835e-6f7284cbfd25",
   "metadata": {},
   "source": [
    "## 3.Banda móvil"
   ]
  },
  {
   "cell_type": "code",
   "execution_count": 7,
   "id": "d045c975-3683-4f93-853b-f9b26edf558e",
   "metadata": {},
   "outputs": [
    {
     "name": "stdout",
     "output_type": "stream",
     "text": [
      "{'m': 1, 'o': 2, 'H': 1, 'a': 1, 'c': 1, 'l': 1}\n"
     ]
    }
   ],
   "source": [
    "#Ejecutando el metodo de banda_movil en el objeto objeto_frase e imprimir \n",
    "print(objeto_frase.banda_movil(0, 8))"
   ]
  }
 ],
 "metadata": {
  "kernelspec": {
   "display_name": "Python 3 (ipykernel)",
   "language": "python",
   "name": "python3"
  },
  "language_info": {
   "codemirror_mode": {
    "name": "ipython",
    "version": 3
   },
   "file_extension": ".py",
   "mimetype": "text/x-python",
   "name": "python",
   "nbconvert_exporter": "python",
   "pygments_lexer": "ipython3",
   "version": "3.11.7"
  }
 },
 "nbformat": 4,
 "nbformat_minor": 5
}
