{
 "cells": [
  {
   "cell_type": "markdown",
   "id": "5c918601-c101-4156-b16c-9e35bddf5efb",
   "metadata": {},
   "source": [
    "# Llamar las clases y librerías"
   ]
  },
  {
   "cell_type": "code",
   "execution_count": 1,
   "id": "6ae052a2-dea9-4c65-9034-c4638f565bab",
   "metadata": {},
   "outputs": [],
   "source": [
    "import pandas as pd\n",
    "from Df import Df"
   ]
  },
  {
   "cell_type": "markdown",
   "id": "ab4b8bb6-b86b-4ddb-9887-ffb11c4ec41b",
   "metadata": {},
   "source": [
    "## Importar DataFrame"
   ]
  },
  {
   "cell_type": "code",
   "execution_count": 2,
   "id": "3cb3a434-0254-4876-ada1-8d3cd80d2e5c",
   "metadata": {},
   "outputs": [
    {
     "name": "stdout",
     "output_type": "stream",
     "text": [
      "                             nombre  edad sexo   peso altura  colesterol\n",
      "0      José Luis Martínez Izquierdo    18    H   85.0   1,79       182.0\n",
      "1                    Rosa Díaz Díaz    32    M   65.0   1,73       232.0\n",
      "2             Javier García Sánchez    24    H    NaN   1,81       191.0\n",
      "3               Carmen López Pinzón    35    M   65.0   1,70       200.0\n",
      "4              Marisa López Collado    46    M   51.0   1,58       148.0\n",
      "5                 Antonio Ruiz Cruz    68    H   66.0   1,74       249.0\n",
      "6           Antonio Fernández Ocaña    51    H   62.0   1,72       276.0\n",
      "7             Pilar Martín González    22    M   60.0   1,66         NaN\n",
      "8              Pedro Gálvez Tenorio    35    H   90.0   1,94       241.0\n",
      "9           Santiago Reillo Manzano    46    H   75.0   1,85       280.0\n",
      "10            Macarena Álvarez Luna    53    M   55.0   1,62       262.0\n",
      "11       José María de la Guía Sanz    58    H   78.0   1,87       198.0\n",
      "12  Miguel Angel Cuadrado Gutiérrez    27    H  109.0   1,98       210.0\n",
      "13            Carolina Rubio Moreno    20    M   61.0   1,77       194.0\n"
     ]
    }
   ],
   "source": [
    "# importar un DataFrame desde un repositorio de github (este lo hicimos en clases)\n",
    "#https://pandas.pydata.org/pandas-docs/stable/reference/api/pandas.read_csv.html\n",
    "df_colesterol = pd.read_csv(\n",
    "    'https://raw.githubusercontent.com/asalber/manual-python/master/datos/colesteroles.csv',\n",
    "    sep = \";\"\n",
    ")\n",
    "print(df_colesterol)\n",
    "\n",
    "#Hacer que df_colesterol sea un objeto de la clase Df para usar los métodos\n",
    "df_coles_clase = Df(df_colesterol)"
   ]
  },
  {
   "cell_type": "markdown",
   "id": "939bb2d5-1de7-4d78-99a5-154805eb1ac2",
   "metadata": {},
   "source": [
    "## Método que devuelva algunas estadísticas del DataFrame"
   ]
  },
  {
   "cell_type": "code",
   "execution_count": 3,
   "id": "8ba6ec32-347a-4177-b8f5-fd581ee53ded",
   "metadata": {},
   "outputs": [
    {
     "name": "stdout",
     "output_type": "stream",
     "text": [
      "Help on method dicc_estadisticas in module Df:\n",
      "\n",
      "dicc_estadisticas() method of Df.Df instance\n",
      "    Devuelve un diccionario con estadísticas básicas del DataFrame.\n",
      "    \n",
      "    Returns:\n",
      "        dict: Diccionario con las estadísticas del DataFrame. Las estadísticas incluyen:\n",
      "            -Cantidad total de filas en el DataFrame.\n",
      "            -Cantidad total de columnas en el DataFrame.\n",
      "            -Tipos de datos de cada columna en el DataFrame.\n",
      "            -Cantidad de valores nulos por columna en el DataFrame.\n",
      "    \n",
      "    Raises:\n",
      "        None\n",
      "\n",
      "Estadísticas del DataFrame:\n",
      "{'cantidad_filas': 14, 'cantidad_columnas': 6, 'tipos_columnas': {'nombre': dtype('O'), 'edad': dtype('int64'), 'sexo': dtype('O'), 'peso': dtype('float64'), 'altura': dtype('O'), 'colesterol': dtype('float64')}, 'valores_nulos_por_columna': {'nombre': 0, 'edad': 0, 'sexo': 0, 'peso': 1, 'altura': 0, 'colesterol': 1}}\n"
     ]
    }
   ],
   "source": [
    "## Diccionario que muestra un diccionario con estadísticas del DataFrame\n",
    "#Referencias de la creacion de los atributos:\n",
    "#https://pandas.pydata.org/docs/reference/api/pandas.DataFrame.shape.html\n",
    "#https://pandas.pydata.org/docs/reference/api/pandas.DataFrame.dtypes.html\n",
    "#https://pandas.pydata.org/docs/reference/api/pandas.DataFrame.to_dict.html\n",
    "#https://docs.kanaries.net/es/topics/Pandas/pandas-where \n",
    "\n",
    "#Help para ver características del metodo\n",
    "help(df_coles_clase.dicc_estadisticas)\n",
    "\n",
    "print(\"Estadísticas del DataFrame:\")\n",
    "print(df_coles_clase.dicc_estadisticas())\n",
    "\n"
   ]
  },
  {
   "cell_type": "markdown",
   "id": "a1feac52-d214-4e9d-ad60-41eafdb92022",
   "metadata": {},
   "source": [
    "## Un método donde se indique una columna y se devuelvan estadísticas y características"
   ]
  },
  {
   "cell_type": "code",
   "execution_count": 4,
   "id": "d59b2bac-46c4-47bd-be38-d6af47da14d8",
   "metadata": {},
   "outputs": [
    {
     "name": "stdout",
     "output_type": "stream",
     "text": [
      "Help on method caracte_columna in module Df:\n",
      "\n",
      "caracte_columna(col) method of Df.Df instance\n",
      "    Devuelve características básicas de una columna específica del DataFrame.\n",
      "    \n",
      "    Args:\n",
      "        col (str): Nombre de la columna a analizar.\n",
      "    \n",
      "    Returns:\n",
      "        dict: Diccionario con las características de la columna. Las características dependen del tipo de columna:\n",
      "            - Si la columna es numérica, se incluyen: \n",
      "                - 'Tipo de columna': Tipo de datos de la columna.\n",
      "                - 'Promedio': Promedio de los valores en la columna.\n",
      "                - 'Mediana': Mediana de los valores en la columna.\n",
      "                - 'Valor Máximo': Valor máximo en la columna.\n",
      "                - 'Valor Mínimo': Valor mínimo en la columna.\n",
      "                - 'Desviación estándar': Desviación estándar de los valores en la columna.\n",
      "            - Si la columna no es numérica, se incluyen: \n",
      "                - 'Tipo de columna': Tipo de datos de la columna.\n",
      "                - 'Moda': Valor más frecuente en la columna.\n",
      "    \n",
      "    Raises:\n",
      "        ValueError: Si el nombre de la columna no es válido o si la columna indicada no existe en el DataFrame.\n",
      "\n",
      "Columna numérica: \n",
      "{'Tipo de columna': dtype('int64'), 'Promedio': 38.214285714285715, 'Mediana': 35.0, 'Valor Máximo': 68, 'Valor Mínimo': 18, 'Desviación estándar': 15.62137870123737}\n",
      "\n",
      "\n",
      "Columna no numérica: \n",
      "{'Tipo de columna': dtype('O'), 'Moda': 'H'}\n"
     ]
    }
   ],
   "source": [
    "#Referencias:\n",
    "# Obtener una lista de los nombres de las columnas: https://ioflood.com/blog/dataframe-to-list-pandas/\n",
    "#Obtener el promedio de la columna: https://docs.kanaries.net/es/topics/Pandas/pandas-mean\n",
    "#obtener la mediana:https://pandas.pydata.org/docs/reference/api/pandas.DataFrame.median.html#pandas.DataFrame.median\n",
    "#Obtener el maximo y minimo de la columna:\n",
    "    #https://pandas.pydata.org/docs/reference/api/pandas.DataFrame.max.html#\n",
    "    #https://pandas.pydata.org/docs/reference/api/pandas.DataFrame.min.html#pandas.DataFrame.min\n",
    "#Obtener desviación estandar: https://pandas.pydata.org/docs/reference/api/pandas.DataFrame.std.html#pandas.DataFrame.std\n",
    "#obtener moda como serie: https://pandas.pydata.org/docs/reference/api/pandas.DataFrame.mode.html#pandas-dataframe-mode\n",
    "\n",
    "#Ver información del método:\n",
    "help(df_coles_clase.caracte_columna)\n",
    "\n",
    "#Para columna numérica\n",
    "print(\"Columna numérica: \")\n",
    "print(df_coles_clase.caracte_columna(\"edad\"))\n",
    "\n",
    "#Para columna no numérica:\n",
    "print(\"\\n\")\n",
    "print(\"Columna no numérica: \")\n",
    "print(df_coles_clase.caracte_columna(\"sexo\"))"
   ]
  },
  {
   "cell_type": "markdown",
   "id": "99cd20c0-c4f3-49fd-be86-dd53d4f0405d",
   "metadata": {},
   "source": [
    "## Normalización de datos para todo el DataFrame o una columna especificada"
   ]
  },
  {
   "cell_type": "code",
   "execution_count": 5,
   "id": "3bbdbeac-4197-4ea1-a065-2b3d621d9c20",
   "metadata": {},
   "outputs": [
    {
     "name": "stdout",
     "output_type": "stream",
     "text": [
      "Help on method normalizardf in module Df:\n",
      "\n",
      "normalizardf(col=None) method of Df.Df instance\n",
      "    Normaliza los valores de las columnas numéricas en el DataFrame.\n",
      "    \n",
      "    Args:\n",
      "        col (str, optional): Nombre de la columna a normalizar. Si es None, se normalizan todas las columnas numéricas del DataFrame. Por defecto es None.\n",
      "    \n",
      "    Returns:\n",
      "        str: Una cadena de texto que indica que las columnas numéricas han sido normalizadas y devuelve el DataFrame con esas columnas normalizadas.\n",
      "    \n",
      "    Raises:\n",
      "        ValueError: Si el nombre de la columna no es válido o si la columna indicada no contiene valores numéricos.\n",
      "\n",
      "Normalizar todo el DataFrame: \n",
      "La columna None normalizada es: \n",
      "     edad      peso  colesterol\n",
      "0   0.00  0.586207    0.257576\n",
      "1   0.28  0.241379    0.636364\n",
      "2   0.12       NaN    0.325758\n",
      "3   0.34  0.241379    0.393939\n",
      "4   0.56  0.000000    0.000000\n",
      "5   1.00  0.258621    0.765152\n",
      "6   0.66  0.189655    0.969697\n",
      "7   0.08  0.155172         NaN\n",
      "8   0.34  0.672414    0.704545\n",
      "9   0.56  0.413793    1.000000\n",
      "10  0.70  0.068966    0.863636\n",
      "11  0.80  0.465517    0.378788\n",
      "12  0.18  1.000000    0.469697\n",
      "13  0.04  0.172414    0.348485 \n",
      "\n",
      "\n",
      "Normalizar columna numérica: \n",
      "La columna colesterol normalizada es: \n",
      " 0     0.257576\n",
      "1     0.636364\n",
      "2     0.325758\n",
      "3     0.393939\n",
      "4     0.000000\n",
      "5     0.765152\n",
      "6     0.969697\n",
      "7          NaN\n",
      "8     0.704545\n",
      "9     1.000000\n",
      "10    0.863636\n",
      "11    0.378788\n",
      "12    0.469697\n",
      "13    0.348485\n",
      "Name: colesterol, dtype: float64 \n",
      "\n",
      "\n",
      "Normalizar columna no numérica: \n"
     ]
    },
    {
     "ename": "ValueError",
     "evalue": "La columna indicada debe ser con elementos del tipo numerables",
     "output_type": "error",
     "traceback": [
      "\u001b[1;31m---------------------------------------------------------------------------\u001b[0m",
      "\u001b[1;31mValueError\u001b[0m                                Traceback (most recent call last)",
      "Cell \u001b[1;32mIn[5], line 21\u001b[0m\n\u001b[0;32m     19\u001b[0m \u001b[38;5;66;03m#Indicar una no numérica para ver el error:\u001b[39;00m\n\u001b[0;32m     20\u001b[0m \u001b[38;5;28mprint\u001b[39m(\u001b[38;5;124m\"\u001b[39m\u001b[38;5;124mNormalizar columna no numérica: \u001b[39m\u001b[38;5;124m\"\u001b[39m)\n\u001b[1;32m---> 21\u001b[0m \u001b[38;5;28mprint\u001b[39m(df_coles_clase\u001b[38;5;241m.\u001b[39mnormalizardf(\u001b[38;5;124m\"\u001b[39m\u001b[38;5;124msexo\u001b[39m\u001b[38;5;124m\"\u001b[39m))\n",
      "File \u001b[1;32m~\\OneDrive - Universidad de Costa Rica\\I-2024\\Herramientas para ciencia de datos II\\Tareas\\Tarea 2\\Df.py:260\u001b[0m, in \u001b[0;36mDf.normalizardf\u001b[1;34m(self, col)\u001b[0m\n\u001b[0;32m    258\u001b[0m \u001b[38;5;66;03m#Verificar que la columna sea numerable para normaliza\u001b[39;00m\n\u001b[0;32m    259\u001b[0m \u001b[38;5;28;01mif\u001b[39;00m \u001b[38;5;129;01mnot\u001b[39;00m np\u001b[38;5;241m.\u001b[39missubdtype(dataf[col]\u001b[38;5;241m.\u001b[39mdtypes, np\u001b[38;5;241m.\u001b[39mnumber):\n\u001b[1;32m--> 260\u001b[0m     \u001b[38;5;28;01mraise\u001b[39;00m \u001b[38;5;167;01mValueError\u001b[39;00m(\u001b[38;5;124m\"\u001b[39m\u001b[38;5;124mLa columna indicada debe ser con elementos del tipo numerables\u001b[39m\u001b[38;5;124m\"\u001b[39m)\n\u001b[0;32m    262\u001b[0m \u001b[38;5;66;03m# Normalizar todo el dataf utilizando la formula de maximo y mínimo\u001b[39;00m\n\u001b[0;32m    263\u001b[0m \u001b[38;5;66;03m# https://www.diegocalvo.es/normalizar-dataframes-en-python/\u001b[39;00m\n\u001b[0;32m    264\u001b[0m df_normalizado \u001b[38;5;241m=\u001b[39m (dataf[col] \u001b[38;5;241m-\u001b[39m dataf[col]\u001b[38;5;241m.\u001b[39mmin()) \u001b[38;5;241m/\u001b[39m (dataf[col]\u001b[38;5;241m.\u001b[39mmax() \u001b[38;5;241m-\u001b[39m dataf[col]\u001b[38;5;241m.\u001b[39mmin())\n",
      "\u001b[1;31mValueError\u001b[0m: La columna indicada debe ser con elementos del tipo numerables"
     ]
    }
   ],
   "source": [
    "#Referencias:\n",
    "#(Me dijeron que usara este método para nomalizar y la fuente afirmaba que el profe dijo que la usaramos)\n",
    "# Normalizar todo el dataf utilizando la formula de maximo y mínimo: https://www.diegocalvo.es/normalizar-dataframes-en-python/\n",
    "#Filtrar solo las columnas numéricas e ignorar las demás: https://pandas.pydata.org/docs/reference/api/pandas.DataFrame.select_dtypes.html\n",
    "\n",
    "#Ver información del método:\n",
    "help(df_coles_clase.normalizardf)\n",
    "\n",
    "#No indicar columna para normalizar todo el df\n",
    "print(\"Normalizar todo el DataFrame: \")\n",
    "print(df_coles_clase.normalizardf())\n",
    "print(\"\\n\")\n",
    "\n",
    "#Indcar una columna numérica:\n",
    "print(\"Normalizar columna numérica: \")\n",
    "print(df_coles_clase.normalizardf(\"colesterol\"))\n",
    "print(\"\\n\")\n",
    "\n",
    "#Indicar una no numérica para ver el error:\n",
    "print(\"Normalizar columna no numérica: \")\n",
    "print(df_coles_clase.normalizardf(\"sexo\"))\n",
    "\n"
   ]
  }
 ],
 "metadata": {
  "kernelspec": {
   "display_name": "Python 3 (ipykernel)",
   "language": "python",
   "name": "python3"
  },
  "language_info": {
   "codemirror_mode": {
    "name": "ipython",
    "version": 3
   },
   "file_extension": ".py",
   "mimetype": "text/x-python",
   "name": "python",
   "nbconvert_exporter": "python",
   "pygments_lexer": "ipython3",
   "version": "3.11.7"
  }
 },
 "nbformat": 4,
 "nbformat_minor": 5
}
